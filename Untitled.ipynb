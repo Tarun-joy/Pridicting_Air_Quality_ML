{
 "cells": [
  {
   "cell_type": "code",
   "execution_count": 35,
   "metadata": {},
   "outputs": [],
   "source": [
    "import os\n",
    "import pandas as pd\n",
    "import numpy as np"
   ]
  },
  {
   "cell_type": "code",
   "execution_count": 43,
   "metadata": {},
   "outputs": [],
   "source": [
    "pd.read_csv?"
   ]
  },
  {
   "cell_type": "code",
   "execution_count": 44,
   "metadata": {},
   "outputs": [],
   "source": [
    "df = pd.read_csv(\"C:\\\\Users\\\\tarun\\\\Desktop\\\\datasets\\\\Pridicting_Air_Quality_ML\\\\Delhidata\\\\Real-data\\\\real_combine.csv\",usecols =[\"T\",\"TM\",\"Tm\",\"H\",\"W\",\"V\",\"VH\",\"PM 2.5\"] )"
   ]
  },
  {
   "cell_type": "code",
   "execution_count": 45,
   "metadata": {},
   "outputs": [
    {
     "data": {
      "text/html": [
       "<div>\n",
       "<style scoped>\n",
       "    .dataframe tbody tr th:only-of-type {\n",
       "        vertical-align: middle;\n",
       "    }\n",
       "\n",
       "    .dataframe tbody tr th {\n",
       "        vertical-align: top;\n",
       "    }\n",
       "\n",
       "    .dataframe thead th {\n",
       "        text-align: right;\n",
       "    }\n",
       "</style>\n",
       "<table border=\"1\" class=\"dataframe\">\n",
       "  <thead>\n",
       "    <tr style=\"text-align: right;\">\n",
       "      <th></th>\n",
       "      <th>T</th>\n",
       "      <th>TM</th>\n",
       "      <th>Tm</th>\n",
       "      <th>H</th>\n",
       "      <th>W</th>\n",
       "      <th>V</th>\n",
       "      <th>VH</th>\n",
       "      <th>PM 2.5</th>\n",
       "    </tr>\n",
       "  </thead>\n",
       "  <tbody>\n",
       "    <tr>\n",
       "      <td>0</td>\n",
       "      <td>8.9</td>\n",
       "      <td>15</td>\n",
       "      <td>5.0</td>\n",
       "      <td>93</td>\n",
       "      <td>0.5</td>\n",
       "      <td>4.8</td>\n",
       "      <td>11.1</td>\n",
       "      <td>284.795833</td>\n",
       "    </tr>\n",
       "    <tr>\n",
       "      <td>1</td>\n",
       "      <td>8.9</td>\n",
       "      <td>15</td>\n",
       "      <td>5.0</td>\n",
       "      <td>93</td>\n",
       "      <td>0.5</td>\n",
       "      <td>4.8</td>\n",
       "      <td>11.1</td>\n",
       "      <td>284.795833</td>\n",
       "    </tr>\n",
       "    <tr>\n",
       "      <td>2</td>\n",
       "      <td>8.9</td>\n",
       "      <td>15</td>\n",
       "      <td>5.0</td>\n",
       "      <td>93</td>\n",
       "      <td>0.5</td>\n",
       "      <td>4.8</td>\n",
       "      <td>11.1</td>\n",
       "      <td>284.795833</td>\n",
       "    </tr>\n",
       "    <tr>\n",
       "      <td>3</td>\n",
       "      <td>9.2</td>\n",
       "      <td>-</td>\n",
       "      <td>4.0</td>\n",
       "      <td>97</td>\n",
       "      <td>0.5</td>\n",
       "      <td>9.4</td>\n",
       "      <td>16.5</td>\n",
       "      <td>219.720833</td>\n",
       "    </tr>\n",
       "    <tr>\n",
       "      <td>4</td>\n",
       "      <td>6.6</td>\n",
       "      <td>10</td>\n",
       "      <td>3.0</td>\n",
       "      <td>99</td>\n",
       "      <td>0.6</td>\n",
       "      <td>8.1</td>\n",
       "      <td>13.0</td>\n",
       "      <td>182.187500</td>\n",
       "    </tr>\n",
       "    <tr>\n",
       "      <td>5</td>\n",
       "      <td>6.6</td>\n",
       "      <td>10</td>\n",
       "      <td>3.0</td>\n",
       "      <td>99</td>\n",
       "      <td>0.6</td>\n",
       "      <td>8.1</td>\n",
       "      <td>13.0</td>\n",
       "      <td>182.187500</td>\n",
       "    </tr>\n",
       "    <tr>\n",
       "      <td>6</td>\n",
       "      <td>6.6</td>\n",
       "      <td>10</td>\n",
       "      <td>3.0</td>\n",
       "      <td>99</td>\n",
       "      <td>0.6</td>\n",
       "      <td>8.1</td>\n",
       "      <td>13.0</td>\n",
       "      <td>182.187500</td>\n",
       "    </tr>\n",
       "    <tr>\n",
       "      <td>7</td>\n",
       "      <td>9.1</td>\n",
       "      <td>-</td>\n",
       "      <td>2.0</td>\n",
       "      <td>70</td>\n",
       "      <td>0.8</td>\n",
       "      <td>9.8</td>\n",
       "      <td>14.8</td>\n",
       "      <td>154.037500</td>\n",
       "    </tr>\n",
       "    <tr>\n",
       "      <td>8</td>\n",
       "      <td>7.8</td>\n",
       "      <td>14</td>\n",
       "      <td>3.0</td>\n",
       "      <td>79</td>\n",
       "      <td>1.6</td>\n",
       "      <td>11.7</td>\n",
       "      <td>18.3</td>\n",
       "      <td>223.208333</td>\n",
       "    </tr>\n",
       "    <tr>\n",
       "      <td>9</td>\n",
       "      <td>7.8</td>\n",
       "      <td>14</td>\n",
       "      <td>3.0</td>\n",
       "      <td>79</td>\n",
       "      <td>1.6</td>\n",
       "      <td>11.7</td>\n",
       "      <td>18.3</td>\n",
       "      <td>223.208333</td>\n",
       "    </tr>\n",
       "  </tbody>\n",
       "</table>\n",
       "</div>"
      ],
      "text/plain": [
       "     T  TM   Tm   H    W     V    VH      PM 2.5\n",
       "0  8.9  15  5.0  93  0.5   4.8  11.1  284.795833\n",
       "1  8.9  15  5.0  93  0.5   4.8  11.1  284.795833\n",
       "2  8.9  15  5.0  93  0.5   4.8  11.1  284.795833\n",
       "3  9.2   -  4.0  97  0.5   9.4  16.5  219.720833\n",
       "4  6.6  10  3.0  99  0.6   8.1  13.0  182.187500\n",
       "5  6.6  10  3.0  99  0.6   8.1  13.0  182.187500\n",
       "6  6.6  10  3.0  99  0.6   8.1  13.0  182.187500\n",
       "7  9.1   -  2.0  70  0.8   9.8  14.8  154.037500\n",
       "8  7.8  14  3.0  79  1.6  11.7  18.3  223.208333\n",
       "9  7.8  14  3.0  79  1.6  11.7  18.3  223.208333"
      ]
     },
     "execution_count": 45,
     "metadata": {},
     "output_type": "execute_result"
    }
   ],
   "source": [
    "df.head(10)"
   ]
  },
  {
   "cell_type": "code",
   "execution_count": 64,
   "metadata": {},
   "outputs": [
    {
     "ename": "TypeError",
     "evalue": "float() argument must be a string or a number, not 'DataFrame'",
     "output_type": "error",
     "traceback": [
      "\u001b[1;31m---------------------------------------------------------------------------\u001b[0m",
      "\u001b[1;31mTypeError\u001b[0m                                 Traceback (most recent call last)",
      "\u001b[1;32m<ipython-input-64-c35ab3e0b508>\u001b[0m in \u001b[0;36m<module>\u001b[1;34m\u001b[0m\n\u001b[1;32m----> 1\u001b[1;33m \u001b[0mdf\u001b[0m \u001b[1;33m=\u001b[0m \u001b[0mfloat\u001b[0m\u001b[1;33m(\u001b[0m\u001b[0mdf\u001b[0m\u001b[1;33m[\u001b[0m\u001b[0mdf\u001b[0m\u001b[1;33m.\u001b[0m\u001b[0mTM\u001b[0m \u001b[1;33m!=\u001b[0m \u001b[1;34m'-'\u001b[0m\u001b[1;33m]\u001b[0m\u001b[1;33m)\u001b[0m\u001b[1;33m\u001b[0m\u001b[1;33m\u001b[0m\u001b[0m\n\u001b[0m\u001b[0;32m      2\u001b[0m \u001b[0mdf\u001b[0m \u001b[1;33m=\u001b[0m \u001b[0mdf\u001b[0m\u001b[1;33m.\u001b[0m\u001b[0mdropna\u001b[0m\u001b[1;33m(\u001b[0m\u001b[1;33m)\u001b[0m\u001b[1;33m\u001b[0m\u001b[1;33m\u001b[0m\u001b[0m\n",
      "\u001b[1;31mTypeError\u001b[0m: float() argument must be a string or a number, not 'DataFrame'"
     ]
    }
   ],
   "source": [
    "df = df[df.TM != '-']\n",
    "df = df.dropna()"
   ]
  },
  {
   "cell_type": "code",
   "execution_count": 63,
   "metadata": {},
   "outputs": [
    {
     "data": {
      "text/plain": [
       "array(['15', '10', '14', '29', '21', '28', '18', '17', '19', '20', '24',\n",
       "       '22', '26', '23', '25', '27', '30', '31', '32', '34', '35', '36',\n",
       "       '37', '38', '41', '42', '45', '44', '46', '43', '39', '40', '33',\n",
       "       '16', '13', '21.0', '15.0', '17.0', '12.0', '10.0', '18.0', '19.0',\n",
       "       '20.0', '22.0', '23.0', '24.0', '25.0', '27.0', '29.0', '28.0',\n",
       "       '26.0', '30.0', '31.0', '34.0', '36.0', '35.0', '33.0', '32.0',\n",
       "       '41.0', '39.0', '37.0', '43.0', '42.0', '45.0', '46.0', '44.0',\n",
       "       '38.0', '23.8', '21.3', '22.4', '21.2', '22.2', '19.4', '22.1',\n",
       "       '19.1', '16.2', '14.4', '16.4', '17.2', '22.7', '22.9', '22.3',\n",
       "       '23.6', '24.4', '26.7', '24.8', '29.8', '28.2', '32.2', '31.9',\n",
       "       '29.9', '33.8', '34.6', '30.4', '29.4', '29.2', '34.5', '38.4',\n",
       "       '28.1', '40.0', '39.2', '41.2', '42.2', '38.3', '44.2', '46.2',\n",
       "       '40.7', '40.9', '40.2', '44.5', '44.4', '46.4', '43.5', '40.8',\n",
       "       '43.8', '43.2', '41.8', '36.1', '39.4', '37.6', '32.5', '37.8',\n",
       "       '36.8', '36.2', '33.4', '35.2', '36.5', '33.9', '34.8', '35.4',\n",
       "       '34.4', '37.4', '33.2', '33.7', '35.5', '35.8', '37.2', '35.6',\n",
       "       '34.7', '33.1', '30.5', '27.5', '30.8', '30.2', '28.4', '26.6',\n",
       "       '25.8', '26.2', '25.6', '27.2', '26.3', '23.3', '22.8', '25.2'],\n",
       "      dtype=object)"
      ]
     },
     "execution_count": 63,
     "metadata": {},
     "output_type": "execute_result"
    }
   ],
   "source": [
    "df[\"TM\"].unique()"
   ]
  },
  {
   "cell_type": "code",
   "execution_count": 56,
   "metadata": {},
   "outputs": [
    {
     "data": {
      "text/html": [
       "<div>\n",
       "<style scoped>\n",
       "    .dataframe tbody tr th:only-of-type {\n",
       "        vertical-align: middle;\n",
       "    }\n",
       "\n",
       "    .dataframe tbody tr th {\n",
       "        vertical-align: top;\n",
       "    }\n",
       "\n",
       "    .dataframe thead th {\n",
       "        text-align: right;\n",
       "    }\n",
       "</style>\n",
       "<table border=\"1\" class=\"dataframe\">\n",
       "  <thead>\n",
       "    <tr style=\"text-align: right;\">\n",
       "      <th></th>\n",
       "      <th>T</th>\n",
       "      <th>TM</th>\n",
       "      <th>Tm</th>\n",
       "      <th>H</th>\n",
       "      <th>W</th>\n",
       "      <th>V</th>\n",
       "      <th>VH</th>\n",
       "      <th>PM 2.5</th>\n",
       "    </tr>\n",
       "  </thead>\n",
       "  <tbody>\n",
       "    <tr>\n",
       "      <td>0</td>\n",
       "      <td>8.9</td>\n",
       "      <td>15</td>\n",
       "      <td>5.0</td>\n",
       "      <td>93</td>\n",
       "      <td>0.5</td>\n",
       "      <td>4.8</td>\n",
       "      <td>11.1</td>\n",
       "      <td>284.795833</td>\n",
       "    </tr>\n",
       "    <tr>\n",
       "      <td>1</td>\n",
       "      <td>8.9</td>\n",
       "      <td>15</td>\n",
       "      <td>5.0</td>\n",
       "      <td>93</td>\n",
       "      <td>0.5</td>\n",
       "      <td>4.8</td>\n",
       "      <td>11.1</td>\n",
       "      <td>284.795833</td>\n",
       "    </tr>\n",
       "    <tr>\n",
       "      <td>2</td>\n",
       "      <td>8.9</td>\n",
       "      <td>15</td>\n",
       "      <td>5.0</td>\n",
       "      <td>93</td>\n",
       "      <td>0.5</td>\n",
       "      <td>4.8</td>\n",
       "      <td>11.1</td>\n",
       "      <td>284.795833</td>\n",
       "    </tr>\n",
       "    <tr>\n",
       "      <td>4</td>\n",
       "      <td>6.6</td>\n",
       "      <td>10</td>\n",
       "      <td>3.0</td>\n",
       "      <td>99</td>\n",
       "      <td>0.6</td>\n",
       "      <td>8.1</td>\n",
       "      <td>13.0</td>\n",
       "      <td>182.187500</td>\n",
       "    </tr>\n",
       "    <tr>\n",
       "      <td>5</td>\n",
       "      <td>6.6</td>\n",
       "      <td>10</td>\n",
       "      <td>3.0</td>\n",
       "      <td>99</td>\n",
       "      <td>0.6</td>\n",
       "      <td>8.1</td>\n",
       "      <td>13.0</td>\n",
       "      <td>182.187500</td>\n",
       "    </tr>\n",
       "    <tr>\n",
       "      <td>6</td>\n",
       "      <td>6.6</td>\n",
       "      <td>10</td>\n",
       "      <td>3.0</td>\n",
       "      <td>99</td>\n",
       "      <td>0.6</td>\n",
       "      <td>8.1</td>\n",
       "      <td>13.0</td>\n",
       "      <td>182.187500</td>\n",
       "    </tr>\n",
       "    <tr>\n",
       "      <td>8</td>\n",
       "      <td>7.8</td>\n",
       "      <td>14</td>\n",
       "      <td>3.0</td>\n",
       "      <td>79</td>\n",
       "      <td>1.6</td>\n",
       "      <td>11.7</td>\n",
       "      <td>18.3</td>\n",
       "      <td>223.208333</td>\n",
       "    </tr>\n",
       "    <tr>\n",
       "      <td>9</td>\n",
       "      <td>7.8</td>\n",
       "      <td>14</td>\n",
       "      <td>3.0</td>\n",
       "      <td>79</td>\n",
       "      <td>1.6</td>\n",
       "      <td>11.7</td>\n",
       "      <td>18.3</td>\n",
       "      <td>223.208333</td>\n",
       "    </tr>\n",
       "    <tr>\n",
       "      <td>10</td>\n",
       "      <td>7.8</td>\n",
       "      <td>14</td>\n",
       "      <td>3.0</td>\n",
       "      <td>79</td>\n",
       "      <td>1.6</td>\n",
       "      <td>11.7</td>\n",
       "      <td>18.3</td>\n",
       "      <td>223.208333</td>\n",
       "    </tr>\n",
       "    <tr>\n",
       "      <td>11</td>\n",
       "      <td>13.4</td>\n",
       "      <td>29</td>\n",
       "      <td>7.0</td>\n",
       "      <td>55</td>\n",
       "      <td>2.4</td>\n",
       "      <td>11.9</td>\n",
       "      <td>22.2</td>\n",
       "      <td>200.645833</td>\n",
       "    </tr>\n",
       "  </tbody>\n",
       "</table>\n",
       "</div>"
      ],
      "text/plain": [
       "       T  TM   Tm   H    W     V    VH      PM 2.5\n",
       "0    8.9  15  5.0  93  0.5   4.8  11.1  284.795833\n",
       "1    8.9  15  5.0  93  0.5   4.8  11.1  284.795833\n",
       "2    8.9  15  5.0  93  0.5   4.8  11.1  284.795833\n",
       "4    6.6  10  3.0  99  0.6   8.1  13.0  182.187500\n",
       "5    6.6  10  3.0  99  0.6   8.1  13.0  182.187500\n",
       "6    6.6  10  3.0  99  0.6   8.1  13.0  182.187500\n",
       "8    7.8  14  3.0  79  1.6  11.7  18.3  223.208333\n",
       "9    7.8  14  3.0  79  1.6  11.7  18.3  223.208333\n",
       "10   7.8  14  3.0  79  1.6  11.7  18.3  223.208333\n",
       "11  13.4  29  7.0  55  2.4  11.9  22.2  200.645833"
      ]
     },
     "execution_count": 56,
     "metadata": {},
     "output_type": "execute_result"
    }
   ],
   "source": [
    "df.head(10)"
   ]
  },
  {
   "cell_type": "code",
   "execution_count": 69,
   "metadata": {},
   "outputs": [],
   "source": [
    "X = df.iloc[:,:-1].values"
   ]
  },
  {
   "cell_type": "code",
   "execution_count": 66,
   "metadata": {},
   "outputs": [],
   "source": [
    "y = df.iloc[:,-1].values"
   ]
  },
  {
   "cell_type": "code",
   "execution_count": 70,
   "metadata": {},
   "outputs": [],
   "source": [
    "from sklearn.model_selection import train_test_split\n",
    "X_train,X_test,y_train,y_test = train_test_split(X,y,test_size = 0.3,random_state = 0)"
   ]
  },
  {
   "cell_type": "code",
   "execution_count": 71,
   "metadata": {},
   "outputs": [],
   "source": [
    "import xgboost as xgb"
   ]
  },
  {
   "cell_type": "code",
   "execution_count": 72,
   "metadata": {},
   "outputs": [],
   "source": [
    "regressor = xgb.XGBRegressor()"
   ]
  },
  {
   "cell_type": "code",
   "execution_count": 73,
   "metadata": {},
   "outputs": [
    {
     "name": "stdout",
     "output_type": "stream",
     "text": [
      "[14:18:34] WARNING: src/objective/regression_obj.cu:152: reg:linear is now deprecated in favor of reg:squarederror.\n"
     ]
    },
    {
     "name": "stderr",
     "output_type": "stream",
     "text": [
      "C:\\Users\\tarun\\Anaconda3\\lib\\site-packages\\xgboost\\core.py:587: FutureWarning: Series.base is deprecated and will be removed in a future version\n",
      "  if getattr(data, 'base', None) is not None and \\\n"
     ]
    },
    {
     "data": {
      "text/plain": [
       "XGBRegressor(base_score=0.5, booster='gbtree', colsample_bylevel=1,\n",
       "             colsample_bynode=1, colsample_bytree=1, gamma=0,\n",
       "             importance_type='gain', learning_rate=0.1, max_delta_step=0,\n",
       "             max_depth=3, min_child_weight=1, missing=None, n_estimators=100,\n",
       "             n_jobs=1, nthread=None, objective='reg:linear', random_state=0,\n",
       "             reg_alpha=0, reg_lambda=1, scale_pos_weight=1, seed=None,\n",
       "             silent=None, subsample=1, verbosity=1)"
      ]
     },
     "execution_count": 73,
     "metadata": {},
     "output_type": "execute_result"
    }
   ],
   "source": [
    "regressor.fit(X_train,y_train)"
   ]
  },
  {
   "cell_type": "code",
   "execution_count": 81,
   "metadata": {},
   "outputs": [],
   "source": [
    "xgbpredict=regressor.predict(X_test)"
   ]
  },
  {
   "cell_type": "code",
   "execution_count": 75,
   "metadata": {},
   "outputs": [],
   "source": [
    "from sklearn import metrics"
   ]
  },
  {
   "cell_type": "code",
   "execution_count": 76,
   "metadata": {},
   "outputs": [
    {
     "name": "stdout",
     "output_type": "stream",
     "text": [
      "MAE: 25.894971918039655\n",
      "MSE: 1404.538239783698\n",
      "RMSE: 5.088710241116078\n"
     ]
    }
   ],
   "source": [
    "print(\"MAE:\",metrics.mean_absolute_error(y_test,xgbpredict))\n",
    "print(\"MSE:\",metrics.mean_squared_error(y_test,xgbpredict))\n",
    "print(\"RMSE:\",np.sqrt(metrics.mean_absolute_error(y_test,xgbpredict)))"
   ]
  },
  {
   "cell_type": "code",
   "execution_count": 80,
   "metadata": {},
   "outputs": [
    {
     "name": "stderr",
     "output_type": "stream",
     "text": [
      "C:\\Users\\tarun\\Anaconda3\\lib\\site-packages\\xgboost\\core.py:587: FutureWarning: Series.base is deprecated and will be removed in a future version\n",
      "  if getattr(data, 'base', None) is not None and \\\n",
      "C:\\Users\\tarun\\Anaconda3\\lib\\site-packages\\xgboost\\core.py:587: FutureWarning: Series.base is deprecated and will be removed in a future version\n",
      "  if getattr(data, 'base', None) is not None and \\\n"
     ]
    },
    {
     "name": "stdout",
     "output_type": "stream",
     "text": [
      "[14:35:16] WARNING: src/objective/regression_obj.cu:152: reg:linear is now deprecated in favor of reg:squarederror.\n",
      "[14:35:17] WARNING: src/objective/regression_obj.cu:152: reg:linear is now deprecated in favor of reg:squarederror.\n"
     ]
    },
    {
     "name": "stderr",
     "output_type": "stream",
     "text": [
      "C:\\Users\\tarun\\Anaconda3\\lib\\site-packages\\xgboost\\core.py:587: FutureWarning: Series.base is deprecated and will be removed in a future version\n",
      "  if getattr(data, 'base', None) is not None and \\\n",
      "C:\\Users\\tarun\\Anaconda3\\lib\\site-packages\\xgboost\\core.py:587: FutureWarning: Series.base is deprecated and will be removed in a future version\n",
      "  if getattr(data, 'base', None) is not None and \\\n"
     ]
    },
    {
     "name": "stdout",
     "output_type": "stream",
     "text": [
      "[14:35:17] WARNING: src/objective/regression_obj.cu:152: reg:linear is now deprecated in favor of reg:squarederror.\n",
      "[14:35:17] WARNING: src/objective/regression_obj.cu:152: reg:linear is now deprecated in favor of reg:squarederror.\n",
      "[14:35:17] WARNING: src/objective/regression_obj.cu:152: reg:linear is now deprecated in favor of reg:squarederror.\n"
     ]
    },
    {
     "name": "stderr",
     "output_type": "stream",
     "text": [
      "C:\\Users\\tarun\\Anaconda3\\lib\\site-packages\\xgboost\\core.py:587: FutureWarning: Series.base is deprecated and will be removed in a future version\n",
      "  if getattr(data, 'base', None) is not None and \\\n"
     ]
    },
    {
     "data": {
      "text/plain": [
       "0.5883496889272057"
      ]
     },
     "execution_count": 80,
     "metadata": {},
     "output_type": "execute_result"
    }
   ],
   "source": [
    "from sklearn.model_selection import cross_val_score\n",
    "score = cross_val_score(regressor,X,y,cv = 5)\n",
    "score.mean()"
   ]
  }
 ],
 "metadata": {
  "kernelspec": {
   "display_name": "Python 3",
   "language": "python",
   "name": "python3"
  },
  "language_info": {
   "codemirror_mode": {
    "name": "ipython",
    "version": 3
   },
   "file_extension": ".py",
   "mimetype": "text/x-python",
   "name": "python",
   "nbconvert_exporter": "python",
   "pygments_lexer": "ipython3",
   "version": "3.7.4"
  }
 },
 "nbformat": 4,
 "nbformat_minor": 2
}
